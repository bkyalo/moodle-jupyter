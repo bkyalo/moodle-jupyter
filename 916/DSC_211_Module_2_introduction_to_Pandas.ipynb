{
 "cells": [
  {
   "cell_type": "markdown",
   "id": "0136ba39",
   "metadata": {},
   "source": [
    "**<h1 style=\"color:#037b90\">MODULE 2: INTRODUCTION TO PANDAS</h1>**\n",
    "\n",
    "**<h3 style=\"color:#037b90\">Module overview</h3>**\n",
    "\n",
    "In this module you will get an in-depth introduction to Pandas library, a powerful tool for data manipulation and analysis in Python. you will be able to learn about the core data structures in Pandas, including Series and DataFrames, and explore essential functions for data manipulation such as reindexing, dropping entries, selection and filtering, and sorting. Additionally, you will learn about the techniques for summarizing data and computing descriptive statistics. This module will equip you with the skills to perform comprehensive data analysis tasks using pandas.\n",
    "\n",
    "**<h3 style=\"color:#037b90\">Learning Outcomes</h3>**\n",
    "\n",
    "By the end of this module you should be able to;\n",
    "\n",
    "1. Describe the primary data structures in Pandas\n",
    "2.  Explain the processes and significance of reindexing, dropping entries, selection and filtering, and sorting and ranking in Pandas\n",
    "3. Apply Pandas functions to reindex a DataFrame, drop specific entries, and filter data based on given criteria\n",
    "4. Analyze a dataset to compute and interpret descriptive statistics, such as mean, median, and standard deviation using Pandas.\n",
    "\n",
    "**<h3 style=\"color:#037b90\">CONTENT</h3>**\n",
    "\n",
    "Introduction to Pandas: Pandas data structures(Series and dataframes), Essential functions(Reindexing, dropping entries, selection and filtering, sorting and ranking); Summarizing and computing descriptive statistics\n",
    "\n",
    "**What is pandas**\n",
    "\n",
    "Pandas is a python library that is used for data analysis. Pandas stands for panel data. The name is derived from the fact that the library displays data in a tabular manner like excel.\n",
    "\n",
    "Pandas has two data structures that we will be looking at in this section namely series and dataframe. Before we start looking at how the two data structures work, we will start by making sure that we have pandas in our workspace. If you have not installed pandas you can use the following command to do so\n",
    "\n",
    "    pip install pandas\n",
    "\n",
    "After you have installed the pandas module you can now import it to your workspace using the import keyword as follows\n",
    "\n",
    "    import pandas as pd\n",
    "    \n",
    "We are using the alias pd to make it easier to reference the pandas library\n",
    "\n",
    "**Series**: A series is basically a one dimensional array that is able to hold any python data type. It has axis labels which are used as index.\n",
    "\n",
    "**Creating a series**\n",
    "\n",
    "The most basic way of creating a series is using the pandas Series method. The series can be created from a list, a dictionary, an ndarray or a scalar value like 5\n",
    "\n"
   ]
  },
  {
   "cell_type": "code",
   "execution_count": 1,
   "id": "08a116bc",
   "metadata": {},
   "outputs": [
    {
     "data": {
      "text/plain": [
       "0     34\n",
       "1     56\n",
       "2     77\n",
       "3     89\n",
       "4     34\n",
       "5     25\n",
       "6     67\n",
       "7     89\n",
       "8     86\n",
       "9     12\n",
       "10    59\n",
       "11    87\n",
       "dtype: int64"
      ]
     },
     "execution_count": 1,
     "metadata": {},
     "output_type": "execute_result"
    }
   ],
   "source": [
    "#creating a series from a list\n",
    "import pandas as pd\n",
    "data=[34,56,77,89,34,25,67,89,86,12,59,87]\n",
    "pd.Series(data)"
   ]
  },
  {
   "cell_type": "code",
   "execution_count": 58,
   "id": "76686eca",
   "metadata": {},
   "outputs": [
    {
     "name": "stdout",
     "output_type": "stream",
     "text": [
      "A    23\n",
      "b    40\n",
      "c    67\n",
      "d    23\n",
      "dtype: int64\n"
     ]
    }
   ],
   "source": [
    "#Creating a series from a dictionary\n",
    "dic={\"A\":23, \"b\":40, \"c\":67, \"d\":23}\n",
    "dic_seris=pd.Series(dic)\n",
    "print(dic_seris)"
   ]
  },
  {
   "cell_type": "markdown",
   "id": "05b3d44a",
   "metadata": {},
   "source": [
    "**Attributes of the series data structure**\n",
    "\n",
    "**index**: Indicates the of the series. It will show all the indexes in the series\n",
    "\n",
    "**values**: Indicates the values in the series as a list of values\n",
    "\n",
    "**dtype**: Indicates the data type of the data stored in the series\n",
    "\n",
    "**shape**: Indicates the shape of the data stored in the tupple\n",
    "\n",
    "**ndim**: Indicates the dimensions in the data in the series\n",
    "\n",
    "**empty**: Indicates if the series is empty or not. If the series is empty, the empty attribute returns True if the series is not empty, the empty attribute returns true"
   ]
  },
  {
   "cell_type": "code",
   "execution_count": 65,
   "id": "1f37b15e",
   "metadata": {},
   "outputs": [
    {
     "name": "stdout",
     "output_type": "stream",
     "text": [
      "Index(['A', 'b', 'c', 'd'], dtype='object')\n",
      "[23 40 67 23]\n",
      "int64\n",
      "(4,)\n",
      "1\n",
      "False\n"
     ]
    }
   ],
   "source": [
    "print(dic_seris.index)\n",
    "print(dic_seris.values)\n",
    "print(dic_seris.dtype)\n",
    "print(dic_seris.shape)\n",
    "print(dic_seris.ndim)\n",
    "print(dic_seris.empty)"
   ]
  },
  {
   "cell_type": "markdown",
   "id": "2285c9c1",
   "metadata": {},
   "source": [
    "**Accessing series element**\n",
    "\n",
    "We can access series elements using the index. For example in our created series called dic_seris, the index will be the letters 'A', 'B', 'C'. To access the elements we use indexing as you did while accessing the list, in this case the index are the letters as shown below"
   ]
  },
  {
   "cell_type": "code",
   "execution_count": 66,
   "id": "5e566580",
   "metadata": {},
   "outputs": [
    {
     "data": {
      "text/plain": [
       "23"
      ]
     },
     "execution_count": 66,
     "metadata": {},
     "output_type": "execute_result"
    }
   ],
   "source": [
    "dic_seris['A']"
   ]
  },
  {
   "cell_type": "markdown",
   "id": "ce755878",
   "metadata": {},
   "source": [
    "We are also be able to access the elements of the series using the number indexing as shown below"
   ]
  },
  {
   "cell_type": "code",
   "execution_count": 68,
   "id": "6e318558",
   "metadata": {},
   "outputs": [
    {
     "data": {
      "text/plain": [
       "A    23\n",
       "b    40\n",
       "c    67\n",
       "d    23\n",
       "dtype: int64"
      ]
     },
     "execution_count": 68,
     "metadata": {},
     "output_type": "execute_result"
    }
   ],
   "source": [
    "dic_seris[0:4]"
   ]
  },
  {
   "cell_type": "markdown",
   "id": "59aaeff8",
   "metadata": {},
   "source": [
    "**Dataframes**\n",
    "\n",
    "The dataframe is the other data structure found in pandas. The dataframe arranges data in a table like format.It presents data in a two dimensional array of rows and columns We can create a dataframe from values, from existing data structures or from a file read using pandas. You can use the DataFrame() function to create a dataframe.\n",
    "\n",
    "Let us create a dictionary and convert it to a dataframe\n"
   ]
  },
  {
   "cell_type": "code",
   "execution_count": 5,
   "id": "21bf9c43",
   "metadata": {},
   "outputs": [],
   "source": [
    "dicti={\"a\":[40,40], \"b\":[56,89],\"c\":[34,56], \"d\":[66,77]}\n",
    "data=pd.DataFrame(data=dicti)"
   ]
  },
  {
   "cell_type": "code",
   "execution_count": 6,
   "id": "7d87c3f5",
   "metadata": {},
   "outputs": [
    {
     "data": {
      "text/html": [
       "<div>\n",
       "<style scoped>\n",
       "    .dataframe tbody tr th:only-of-type {\n",
       "        vertical-align: middle;\n",
       "    }\n",
       "\n",
       "    .dataframe tbody tr th {\n",
       "        vertical-align: top;\n",
       "    }\n",
       "\n",
       "    .dataframe thead th {\n",
       "        text-align: right;\n",
       "    }\n",
       "</style>\n",
       "<table border=\"1\" class=\"dataframe\">\n",
       "  <thead>\n",
       "    <tr style=\"text-align: right;\">\n",
       "      <th></th>\n",
       "      <th>a</th>\n",
       "      <th>b</th>\n",
       "      <th>c</th>\n",
       "      <th>d</th>\n",
       "    </tr>\n",
       "  </thead>\n",
       "  <tbody>\n",
       "    <tr>\n",
       "      <th>0</th>\n",
       "      <td>40</td>\n",
       "      <td>56</td>\n",
       "      <td>34</td>\n",
       "      <td>66</td>\n",
       "    </tr>\n",
       "    <tr>\n",
       "      <th>1</th>\n",
       "      <td>40</td>\n",
       "      <td>89</td>\n",
       "      <td>56</td>\n",
       "      <td>77</td>\n",
       "    </tr>\n",
       "  </tbody>\n",
       "</table>\n",
       "</div>"
      ],
      "text/plain": [
       "    a   b   c   d\n",
       "0  40  56  34  66\n",
       "1  40  89  56  77"
      ]
     },
     "execution_count": 6,
     "metadata": {},
     "output_type": "execute_result"
    }
   ],
   "source": [
    "data"
   ]
  },
  {
   "cell_type": "markdown",
   "id": "36b94ce4",
   "metadata": {},
   "source": [
    "You can use the DataFrame() fuction to create a dataframe from a numpy array as follows;"
   ]
  },
  {
   "cell_type": "code",
   "execution_count": 2,
   "id": "a2b31d55",
   "metadata": {},
   "outputs": [
    {
     "data": {
      "text/html": [
       "<div>\n",
       "<style scoped>\n",
       "    .dataframe tbody tr th:only-of-type {\n",
       "        vertical-align: middle;\n",
       "    }\n",
       "\n",
       "    .dataframe tbody tr th {\n",
       "        vertical-align: top;\n",
       "    }\n",
       "\n",
       "    .dataframe thead th {\n",
       "        text-align: right;\n",
       "    }\n",
       "</style>\n",
       "<table border=\"1\" class=\"dataframe\">\n",
       "  <thead>\n",
       "    <tr style=\"text-align: right;\">\n",
       "      <th></th>\n",
       "      <th>a</th>\n",
       "      <th>b</th>\n",
       "      <th>c</th>\n",
       "    </tr>\n",
       "  </thead>\n",
       "  <tbody>\n",
       "    <tr>\n",
       "      <th>0</th>\n",
       "      <td>22</td>\n",
       "      <td>56</td>\n",
       "      <td>89</td>\n",
       "    </tr>\n",
       "    <tr>\n",
       "      <th>1</th>\n",
       "      <td>41</td>\n",
       "      <td>59</td>\n",
       "      <td>63</td>\n",
       "    </tr>\n",
       "    <tr>\n",
       "      <th>2</th>\n",
       "      <td>70</td>\n",
       "      <td>80</td>\n",
       "      <td>90</td>\n",
       "    </tr>\n",
       "  </tbody>\n",
       "</table>\n",
       "</div>"
      ],
      "text/plain": [
       "    a   b   c\n",
       "0  22  56  89\n",
       "1  41  59  63\n",
       "2  70  80  90"
      ]
     },
     "execution_count": 2,
     "metadata": {},
     "output_type": "execute_result"
    }
   ],
   "source": [
    "import numpy as np\n",
    "import pandas as pd\n",
    "data = np.array([(22, 56, 89), (41, 59, 63), (70, 80, 90)],\n",
    "                dtype=[(\"a\", \"i4\"), (\"b\", \"i4\"), (\"c\", \"i4\")])\n",
    "dtarra=pd.DataFrame(data)\n",
    "dtarra"
   ]
  },
  {
   "cell_type": "markdown",
   "id": "d37e353f",
   "metadata": {},
   "source": [
    "Pandas has other functions for reading data from files such as csv, excel, stata. Most organizations do have data in form of excel sheet or the CSV file format. In this section, you will learn how to read data from an excel file and csv file formats\n",
    "\n",
    "The methods that exist in pandas for reading excel and csv file are read_excel() and read_csv() respectivelly. Lets look at how to use this with an example.\n",
    "\n",
    "We will create a variable called data to store our data that is read from the csv file\n",
    "\n"
   ]
  },
  {
   "cell_type": "code",
   "execution_count": 2,
   "id": "f737654d",
   "metadata": {},
   "outputs": [],
   "source": [
    "#reading a csv file \n",
    "import pandas as pd\n",
    "data=pd.read_csv(\"Student_Performance.csv\")"
   ]
  },
  {
   "cell_type": "markdown",
   "id": "e28f90cd",
   "metadata": {},
   "source": [
    "Now that we have read our data, we can peek through the data to see how it looks like using the functions pandas as provided for us.\n",
    "\n",
    "**head()**: The head() functions displays the first five rows of the data. If you want to display more than five rows, we can specifify the number inside the opening and closing braces. Using the data we read from above, we can explore it using the head() function as follows"
   ]
  },
  {
   "cell_type": "code",
   "execution_count": 12,
   "id": "4a89eb80",
   "metadata": {},
   "outputs": [
    {
     "data": {
      "text/html": [
       "<div>\n",
       "<style scoped>\n",
       "    .dataframe tbody tr th:only-of-type {\n",
       "        vertical-align: middle;\n",
       "    }\n",
       "\n",
       "    .dataframe tbody tr th {\n",
       "        vertical-align: top;\n",
       "    }\n",
       "\n",
       "    .dataframe thead th {\n",
       "        text-align: right;\n",
       "    }\n",
       "</style>\n",
       "<table border=\"1\" class=\"dataframe\">\n",
       "  <thead>\n",
       "    <tr style=\"text-align: right;\">\n",
       "      <th></th>\n",
       "      <th>Hours Studied</th>\n",
       "      <th>Previous Scores</th>\n",
       "      <th>Extracurricular Activities</th>\n",
       "      <th>Sleep Hours</th>\n",
       "      <th>Sample Question Papers Practiced</th>\n",
       "      <th>Performance Index</th>\n",
       "    </tr>\n",
       "  </thead>\n",
       "  <tbody>\n",
       "    <tr>\n",
       "      <th>0</th>\n",
       "      <td>7</td>\n",
       "      <td>99</td>\n",
       "      <td>Yes</td>\n",
       "      <td>9</td>\n",
       "      <td>1</td>\n",
       "      <td>91</td>\n",
       "    </tr>\n",
       "    <tr>\n",
       "      <th>1</th>\n",
       "      <td>4</td>\n",
       "      <td>82</td>\n",
       "      <td>No</td>\n",
       "      <td>4</td>\n",
       "      <td>2</td>\n",
       "      <td>65</td>\n",
       "    </tr>\n",
       "    <tr>\n",
       "      <th>2</th>\n",
       "      <td>8</td>\n",
       "      <td>51</td>\n",
       "      <td>Yes</td>\n",
       "      <td>7</td>\n",
       "      <td>2</td>\n",
       "      <td>45</td>\n",
       "    </tr>\n",
       "    <tr>\n",
       "      <th>3</th>\n",
       "      <td>5</td>\n",
       "      <td>52</td>\n",
       "      <td>Yes</td>\n",
       "      <td>5</td>\n",
       "      <td>2</td>\n",
       "      <td>36</td>\n",
       "    </tr>\n",
       "    <tr>\n",
       "      <th>4</th>\n",
       "      <td>7</td>\n",
       "      <td>75</td>\n",
       "      <td>No</td>\n",
       "      <td>8</td>\n",
       "      <td>5</td>\n",
       "      <td>66</td>\n",
       "    </tr>\n",
       "  </tbody>\n",
       "</table>\n",
       "</div>"
      ],
      "text/plain": [
       "   Hours Studied  Previous Scores Extracurricular Activities  Sleep Hours  \\\n",
       "0              7               99                        Yes            9   \n",
       "1              4               82                         No            4   \n",
       "2              8               51                        Yes            7   \n",
       "3              5               52                        Yes            5   \n",
       "4              7               75                         No            8   \n",
       "\n",
       "   Sample Question Papers Practiced  Performance Index  \n",
       "0                                 1                 91  \n",
       "1                                 2                 65  \n",
       "2                                 2                 45  \n",
       "3                                 2                 36  \n",
       "4                                 5                 66  "
      ]
     },
     "execution_count": 12,
     "metadata": {},
     "output_type": "execute_result"
    }
   ],
   "source": [
    "import pandas as pd\n",
    "data=pd.read_csv(\"Student_Performance.csv\")\n",
    "print(data.head())"
   ]
  },
  {
   "cell_type": "code",
   "execution_count": 13,
   "id": "8c754530",
   "metadata": {},
   "outputs": [
    {
     "data": {
      "text/html": [
       "<div>\n",
       "<style scoped>\n",
       "    .dataframe tbody tr th:only-of-type {\n",
       "        vertical-align: middle;\n",
       "    }\n",
       "\n",
       "    .dataframe tbody tr th {\n",
       "        vertical-align: top;\n",
       "    }\n",
       "\n",
       "    .dataframe thead th {\n",
       "        text-align: right;\n",
       "    }\n",
       "</style>\n",
       "<table border=\"1\" class=\"dataframe\">\n",
       "  <thead>\n",
       "    <tr style=\"text-align: right;\">\n",
       "      <th></th>\n",
       "      <th>Hours Studied</th>\n",
       "      <th>Previous Scores</th>\n",
       "      <th>Extracurricular Activities</th>\n",
       "      <th>Sleep Hours</th>\n",
       "      <th>Sample Question Papers Practiced</th>\n",
       "      <th>Performance Index</th>\n",
       "    </tr>\n",
       "  </thead>\n",
       "  <tbody>\n",
       "    <tr>\n",
       "      <th>0</th>\n",
       "      <td>7</td>\n",
       "      <td>99</td>\n",
       "      <td>Yes</td>\n",
       "      <td>9</td>\n",
       "      <td>1</td>\n",
       "      <td>91</td>\n",
       "    </tr>\n",
       "    <tr>\n",
       "      <th>1</th>\n",
       "      <td>4</td>\n",
       "      <td>82</td>\n",
       "      <td>No</td>\n",
       "      <td>4</td>\n",
       "      <td>2</td>\n",
       "      <td>65</td>\n",
       "    </tr>\n",
       "  </tbody>\n",
       "</table>\n",
       "</div>"
      ],
      "text/plain": [
       "   Hours Studied  Previous Scores Extracurricular Activities  Sleep Hours  \\\n",
       "0              7               99                        Yes            9   \n",
       "1              4               82                         No            4   \n",
       "\n",
       "   Sample Question Papers Practiced  Performance Index  \n",
       "0                                 1                 91  \n",
       "1                                 2                 65  "
      ]
     },
     "execution_count": 13,
     "metadata": {},
     "output_type": "execute_result"
    }
   ],
   "source": [
    "#displays 2 rows\n",
    "import pandas as pd\n",
    "data=pd.read_csv(\"Student_Performance.csv\")\n",
    "print(data.head(2))"
   ]
  },
  {
   "cell_type": "markdown",
   "id": "ac8382cc",
   "metadata": {},
   "source": [
    "If you want to see the last rows of the dataset, we can use the tail() function as follows"
   ]
  },
  {
   "cell_type": "code",
   "execution_count": 14,
   "id": "2a19605a",
   "metadata": {},
   "outputs": [
    {
     "data": {
      "text/html": [
       "<div>\n",
       "<style scoped>\n",
       "    .dataframe tbody tr th:only-of-type {\n",
       "        vertical-align: middle;\n",
       "    }\n",
       "\n",
       "    .dataframe tbody tr th {\n",
       "        vertical-align: top;\n",
       "    }\n",
       "\n",
       "    .dataframe thead th {\n",
       "        text-align: right;\n",
       "    }\n",
       "</style>\n",
       "<table border=\"1\" class=\"dataframe\">\n",
       "  <thead>\n",
       "    <tr style=\"text-align: right;\">\n",
       "      <th></th>\n",
       "      <th>Hours Studied</th>\n",
       "      <th>Previous Scores</th>\n",
       "      <th>Extracurricular Activities</th>\n",
       "      <th>Sleep Hours</th>\n",
       "      <th>Sample Question Papers Practiced</th>\n",
       "      <th>Performance Index</th>\n",
       "    </tr>\n",
       "  </thead>\n",
       "  <tbody>\n",
       "    <tr>\n",
       "      <th>9995</th>\n",
       "      <td>1</td>\n",
       "      <td>49</td>\n",
       "      <td>Yes</td>\n",
       "      <td>4</td>\n",
       "      <td>2</td>\n",
       "      <td>23</td>\n",
       "    </tr>\n",
       "    <tr>\n",
       "      <th>9996</th>\n",
       "      <td>7</td>\n",
       "      <td>64</td>\n",
       "      <td>Yes</td>\n",
       "      <td>8</td>\n",
       "      <td>5</td>\n",
       "      <td>58</td>\n",
       "    </tr>\n",
       "    <tr>\n",
       "      <th>9997</th>\n",
       "      <td>6</td>\n",
       "      <td>83</td>\n",
       "      <td>Yes</td>\n",
       "      <td>8</td>\n",
       "      <td>5</td>\n",
       "      <td>74</td>\n",
       "    </tr>\n",
       "    <tr>\n",
       "      <th>9998</th>\n",
       "      <td>9</td>\n",
       "      <td>97</td>\n",
       "      <td>Yes</td>\n",
       "      <td>7</td>\n",
       "      <td>0</td>\n",
       "      <td>95</td>\n",
       "    </tr>\n",
       "    <tr>\n",
       "      <th>9999</th>\n",
       "      <td>7</td>\n",
       "      <td>74</td>\n",
       "      <td>No</td>\n",
       "      <td>8</td>\n",
       "      <td>1</td>\n",
       "      <td>64</td>\n",
       "    </tr>\n",
       "  </tbody>\n",
       "</table>\n",
       "</div>"
      ],
      "text/plain": [
       "      Hours Studied  Previous Scores Extracurricular Activities  Sleep Hours  \\\n",
       "9995              1               49                        Yes            4   \n",
       "9996              7               64                        Yes            8   \n",
       "9997              6               83                        Yes            8   \n",
       "9998              9               97                        Yes            7   \n",
       "9999              7               74                         No            8   \n",
       "\n",
       "      Sample Question Papers Practiced  Performance Index  \n",
       "9995                                 2                 23  \n",
       "9996                                 5                 58  \n",
       "9997                                 5                 74  \n",
       "9998                                 0                 95  \n",
       "9999                                 1                 64  "
      ]
     },
     "execution_count": 14,
     "metadata": {},
     "output_type": "execute_result"
    }
   ],
   "source": [
    "#displaying the last five elements\n",
    "import pandas as pd\n",
    "data=pd.read_csv(\"Student_Performance.csv\")\n",
    "data.tail()"
   ]
  },
  {
   "cell_type": "code",
   "execution_count": 15,
   "id": "defd9eb2",
   "metadata": {},
   "outputs": [
    {
     "data": {
      "text/html": [
       "<div>\n",
       "<style scoped>\n",
       "    .dataframe tbody tr th:only-of-type {\n",
       "        vertical-align: middle;\n",
       "    }\n",
       "\n",
       "    .dataframe tbody tr th {\n",
       "        vertical-align: top;\n",
       "    }\n",
       "\n",
       "    .dataframe thead th {\n",
       "        text-align: right;\n",
       "    }\n",
       "</style>\n",
       "<table border=\"1\" class=\"dataframe\">\n",
       "  <thead>\n",
       "    <tr style=\"text-align: right;\">\n",
       "      <th></th>\n",
       "      <th>Hours Studied</th>\n",
       "      <th>Previous Scores</th>\n",
       "      <th>Extracurricular Activities</th>\n",
       "      <th>Sleep Hours</th>\n",
       "      <th>Sample Question Papers Practiced</th>\n",
       "      <th>Performance Index</th>\n",
       "    </tr>\n",
       "  </thead>\n",
       "  <tbody>\n",
       "    <tr>\n",
       "      <th>9998</th>\n",
       "      <td>9</td>\n",
       "      <td>97</td>\n",
       "      <td>Yes</td>\n",
       "      <td>7</td>\n",
       "      <td>0</td>\n",
       "      <td>95</td>\n",
       "    </tr>\n",
       "    <tr>\n",
       "      <th>9999</th>\n",
       "      <td>7</td>\n",
       "      <td>74</td>\n",
       "      <td>No</td>\n",
       "      <td>8</td>\n",
       "      <td>1</td>\n",
       "      <td>64</td>\n",
       "    </tr>\n",
       "  </tbody>\n",
       "</table>\n",
       "</div>"
      ],
      "text/plain": [
       "      Hours Studied  Previous Scores Extracurricular Activities  Sleep Hours  \\\n",
       "9998              9               97                        Yes            7   \n",
       "9999              7               74                         No            8   \n",
       "\n",
       "      Sample Question Papers Practiced  Performance Index  \n",
       "9998                                 0                 95  \n",
       "9999                                 1                 64  "
      ]
     },
     "execution_count": 15,
     "metadata": {},
     "output_type": "execute_result"
    }
   ],
   "source": [
    "#displaying the last two rows of the dataset\n",
    "import pandas as pd\n",
    "data=pd.read_csv(\"Student_Performance.csv\")\n",
    "data.tail(2)"
   ]
  },
  {
   "cell_type": "markdown",
   "id": "484bd495",
   "metadata": {},
   "source": [
    "If we want to see only a specific column in the dataset, we can reference the column name using the square paranthesis as we used to reference the elements in the list.  "
   ]
  },
  {
   "cell_type": "code",
   "execution_count": 16,
   "id": "f29f41b1",
   "metadata": {},
   "outputs": [
    {
     "data": {
      "text/plain": [
       "0       7\n",
       "1       4\n",
       "2       8\n",
       "3       5\n",
       "4       7\n",
       "       ..\n",
       "9995    1\n",
       "9996    7\n",
       "9997    6\n",
       "9998    9\n",
       "9999    7\n",
       "Name: Hours Studied, Length: 10000, dtype: int64"
      ]
     },
     "execution_count": 16,
     "metadata": {},
     "output_type": "execute_result"
    }
   ],
   "source": [
    "#referencing a specific column\n",
    "import pandas as pd\n",
    "data=pd.read_csv(\"Student_Performance.csv\")\n",
    "data['Hours Studied']"
   ]
  },
  {
   "cell_type": "markdown",
   "id": "eb2d95ff",
   "metadata": {},
   "source": [
    "We can also check the various attributes of the data cointained in the dataframe. For example if you want to see the number of columns and rows in the dataset, we can use the shape attribute to do so as follows"
   ]
  },
  {
   "cell_type": "code",
   "execution_count": 18,
   "id": "9c47fe7a",
   "metadata": {},
   "outputs": [
    {
     "data": {
      "text/plain": [
       "(10000, 6)"
      ]
     },
     "execution_count": 18,
     "metadata": {},
     "output_type": "execute_result"
    }
   ],
   "source": [
    "import pandas as pd\n",
    "data=pd.read_csv(\"Student_Performance.csv\")\n",
    "data.shape"
   ]
  },
  {
   "cell_type": "markdown",
   "id": "a50e8e27",
   "metadata": {},
   "source": [
    "The shape attribute returns a tupple with two values. The first value is the number of rows and the second value is the number of columns. Our dataset in this case therefore has 10,000 rows and 6 columns. We can also extract the column names from the dataset by using the columns attribute as follows"
   ]
  },
  {
   "cell_type": "code",
   "execution_count": 19,
   "id": "e8ebeed7",
   "metadata": {},
   "outputs": [
    {
     "data": {
      "text/plain": [
       "Index(['Hours Studied', 'Previous Scores', 'Extracurricular Activities',\n",
       "       'Sleep Hours', 'Sample Question Papers Practiced', 'Performance Index'],\n",
       "      dtype='object')"
      ]
     },
     "execution_count": 19,
     "metadata": {},
     "output_type": "execute_result"
    }
   ],
   "source": [
    "#accessing the column names from the dataset\n",
    "import pandas as pd\n",
    "data=pd.read_csv(\"Student_Performance.csv\")\n",
    "data.columns"
   ]
  },
  {
   "cell_type": "markdown",
   "id": "265c4294",
   "metadata": {},
   "source": [
    "The columns attribute returns all the column names in the dataset.You can also view the information about our dataset using the info() method"
   ]
  },
  {
   "cell_type": "code",
   "execution_count": 24,
   "id": "a0a8fc63",
   "metadata": {},
   "outputs": [
    {
     "name": "stdout",
     "output_type": "stream",
     "text": [
      "<class 'pandas.core.frame.DataFrame'>\n",
      "RangeIndex: 10000 entries, 0 to 9999\n",
      "Data columns (total 6 columns):\n",
      " #   Column                            Non-Null Count  Dtype \n",
      "---  ------                            --------------  ----- \n",
      " 0   Hours Studied                     10000 non-null  int64 \n",
      " 1   Previous Scores                   10000 non-null  int64 \n",
      " 2   Extracurricular Activities        10000 non-null  object\n",
      " 3   Sleep Hours                       10000 non-null  int64 \n",
      " 4   Sample Question Papers Practiced  10000 non-null  int64 \n",
      " 5   Performance Index                 10000 non-null  int64 \n",
      "dtypes: int64(5), object(1)\n",
      "memory usage: 468.9+ KB\n"
     ]
    }
   ],
   "source": [
    "#getting the datatypes of the columns in the dataset\n",
    "import pandas as pd\n",
    "data=pd.read_csv(\"Student_Performance.csv\")\n",
    "data.info()"
   ]
  },
  {
   "cell_type": "markdown",
   "id": "0bc61fdf",
   "metadata": {},
   "source": [
    "From the info() method we can be able to see the datatypes of the variables, the number of non null values for each columns and the number of entries in the dataset."
   ]
  },
  {
   "cell_type": "markdown",
   "id": "fea17505",
   "metadata": {},
   "source": [
    "**Functions for manipulating data in pandas**\n",
    "\n",
    "The are various functions in pandas that help us in either getting information about our dataset, or manipulating our dataset. In this section, we are going to look at some of this functions in this section.\n",
    "\n",
    "**isnull()**: The isnull() function is used to check if there are any null values in the dataset. We can use the isnull() function together with the sum() function to calculate the total null values in the data."
   ]
  },
  {
   "cell_type": "code",
   "execution_count": 26,
   "id": "432879ec",
   "metadata": {},
   "outputs": [
    {
     "data": {
      "text/plain": [
       "Hours Studied                       0\n",
       "Previous Scores                     0\n",
       "Extracurricular Activities          0\n",
       "Sleep Hours                         0\n",
       "Sample Question Papers Practiced    0\n",
       "Performance Index                   0\n",
       "dtype: int64"
      ]
     },
     "execution_count": 26,
     "metadata": {},
     "output_type": "execute_result"
    }
   ],
   "source": [
    "#Counting the null values in the dataframe\n",
    "import pandas as pd\n",
    "data=pd.read_csv(\"Student_Performance.csv\")\n",
    "data.isnull().sum()"
   ]
  },
  {
   "cell_type": "markdown",
   "id": "d1c3371d",
   "metadata": {},
   "source": [
    "From the results above, we can see that we all our columns do not cointain the null values.\n",
    "\n",
    "**<h4>DESCRIPTIVE STATISTICS</h4>**\n",
    "\n",
    "**describe()**: The describe() function culculates basic statistical values for the numeric columns in the dataset. Using the describe() function, we can be able to see the total count for all the numeraical columns, the mean, the satndard deviation, the minimum values, the quartiles values and the maximum value.\n",
    "\n",
    "We also have functions for culculating each of the descriptive statistics for the whole dataframe and for particular columns"
   ]
  },
  {
   "cell_type": "code",
   "execution_count": 27,
   "id": "8a72fabc",
   "metadata": {},
   "outputs": [
    {
     "data": {
      "text/html": [
       "<div>\n",
       "<style scoped>\n",
       "    .dataframe tbody tr th:only-of-type {\n",
       "        vertical-align: middle;\n",
       "    }\n",
       "\n",
       "    .dataframe tbody tr th {\n",
       "        vertical-align: top;\n",
       "    }\n",
       "\n",
       "    .dataframe thead th {\n",
       "        text-align: right;\n",
       "    }\n",
       "</style>\n",
       "<table border=\"1\" class=\"dataframe\">\n",
       "  <thead>\n",
       "    <tr style=\"text-align: right;\">\n",
       "      <th></th>\n",
       "      <th>Hours Studied</th>\n",
       "      <th>Previous Scores</th>\n",
       "      <th>Sleep Hours</th>\n",
       "      <th>Sample Question Papers Practiced</th>\n",
       "      <th>Performance Index</th>\n",
       "    </tr>\n",
       "  </thead>\n",
       "  <tbody>\n",
       "    <tr>\n",
       "      <th>count</th>\n",
       "      <td>10000.000000</td>\n",
       "      <td>10000.000000</td>\n",
       "      <td>10000.000000</td>\n",
       "      <td>10000.000000</td>\n",
       "      <td>10000.000000</td>\n",
       "    </tr>\n",
       "    <tr>\n",
       "      <th>mean</th>\n",
       "      <td>4.992900</td>\n",
       "      <td>69.445700</td>\n",
       "      <td>6.530600</td>\n",
       "      <td>4.583300</td>\n",
       "      <td>55.224800</td>\n",
       "    </tr>\n",
       "    <tr>\n",
       "      <th>std</th>\n",
       "      <td>2.589309</td>\n",
       "      <td>17.343152</td>\n",
       "      <td>1.695863</td>\n",
       "      <td>2.867348</td>\n",
       "      <td>19.212558</td>\n",
       "    </tr>\n",
       "    <tr>\n",
       "      <th>min</th>\n",
       "      <td>1.000000</td>\n",
       "      <td>40.000000</td>\n",
       "      <td>4.000000</td>\n",
       "      <td>0.000000</td>\n",
       "      <td>10.000000</td>\n",
       "    </tr>\n",
       "    <tr>\n",
       "      <th>25%</th>\n",
       "      <td>3.000000</td>\n",
       "      <td>54.000000</td>\n",
       "      <td>5.000000</td>\n",
       "      <td>2.000000</td>\n",
       "      <td>40.000000</td>\n",
       "    </tr>\n",
       "    <tr>\n",
       "      <th>50%</th>\n",
       "      <td>5.000000</td>\n",
       "      <td>69.000000</td>\n",
       "      <td>7.000000</td>\n",
       "      <td>5.000000</td>\n",
       "      <td>55.000000</td>\n",
       "    </tr>\n",
       "    <tr>\n",
       "      <th>75%</th>\n",
       "      <td>7.000000</td>\n",
       "      <td>85.000000</td>\n",
       "      <td>8.000000</td>\n",
       "      <td>7.000000</td>\n",
       "      <td>71.000000</td>\n",
       "    </tr>\n",
       "    <tr>\n",
       "      <th>max</th>\n",
       "      <td>9.000000</td>\n",
       "      <td>99.000000</td>\n",
       "      <td>9.000000</td>\n",
       "      <td>9.000000</td>\n",
       "      <td>100.000000</td>\n",
       "    </tr>\n",
       "  </tbody>\n",
       "</table>\n",
       "</div>"
      ],
      "text/plain": [
       "       Hours Studied  Previous Scores   Sleep Hours  \\\n",
       "count   10000.000000     10000.000000  10000.000000   \n",
       "mean        4.992900        69.445700      6.530600   \n",
       "std         2.589309        17.343152      1.695863   \n",
       "min         1.000000        40.000000      4.000000   \n",
       "25%         3.000000        54.000000      5.000000   \n",
       "50%         5.000000        69.000000      7.000000   \n",
       "75%         7.000000        85.000000      8.000000   \n",
       "max         9.000000        99.000000      9.000000   \n",
       "\n",
       "       Sample Question Papers Practiced  Performance Index  \n",
       "count                      10000.000000       10000.000000  \n",
       "mean                           4.583300          55.224800  \n",
       "std                            2.867348          19.212558  \n",
       "min                            0.000000          10.000000  \n",
       "25%                            2.000000          40.000000  \n",
       "50%                            5.000000          55.000000  \n",
       "75%                            7.000000          71.000000  \n",
       "max                            9.000000         100.000000  "
      ]
     },
     "execution_count": 27,
     "metadata": {},
     "output_type": "execute_result"
    }
   ],
   "source": [
    "import pandas as pd\n",
    "data=pd.read_csv(\"Student_Performance.csv\")\n",
    "data.describe()"
   ]
  },
  {
   "cell_type": "code",
   "execution_count": 37,
   "id": "f505ebbd",
   "metadata": {},
   "outputs": [
    {
     "data": {
      "text/plain": [
       "Hours Studied                        4.9929\n",
       "Previous Scores                     69.4457\n",
       "Sleep Hours                          6.5306\n",
       "Sample Question Papers Practiced     4.5833\n",
       "Performance Index                   55.2248\n",
       "dtype: float64"
      ]
     },
     "execution_count": 37,
     "metadata": {},
     "output_type": "execute_result"
    }
   ],
   "source": [
    "#Get the mean for the numerical columns\n",
    "import pandas as pd\n",
    "data=pd.read_csv(\"Student_Performance.csv\")\n",
    "data.mean()"
   ]
  },
  {
   "cell_type": "code",
   "execution_count": 38,
   "id": "938b7cd2",
   "metadata": {},
   "outputs": [
    {
     "data": {
      "text/plain": [
       "Hours Studied                        49929\n",
       "Previous Scores                     694457\n",
       "Sleep Hours                          65306\n",
       "Sample Question Papers Practiced     45833\n",
       "Performance Index                   552248\n",
       "dtype: int64"
      ]
     },
     "execution_count": 38,
     "metadata": {},
     "output_type": "execute_result"
    }
   ],
   "source": [
    "#gets the sum of the various numerical columns in the dataset\n",
    "import pandas as pd\n",
    "data=pd.read_csv(\"Student_Performance.csv\")\n",
    "data.sum()"
   ]
  },
  {
   "cell_type": "code",
   "execution_count": 39,
   "id": "61700dda",
   "metadata": {},
   "outputs": [
    {
     "data": {
      "text/html": [
       "<div>\n",
       "<style scoped>\n",
       "    .dataframe tbody tr th:only-of-type {\n",
       "        vertical-align: middle;\n",
       "    }\n",
       "\n",
       "    .dataframe tbody tr th {\n",
       "        vertical-align: top;\n",
       "    }\n",
       "\n",
       "    .dataframe thead th {\n",
       "        text-align: right;\n",
       "    }\n",
       "</style>\n",
       "<table border=\"1\" class=\"dataframe\">\n",
       "  <thead>\n",
       "    <tr style=\"text-align: right;\">\n",
       "      <th></th>\n",
       "      <th>Hours Studied</th>\n",
       "      <th>Previous Scores</th>\n",
       "      <th>Sleep Hours</th>\n",
       "      <th>Sample Question Papers Practiced</th>\n",
       "      <th>Performance Index</th>\n",
       "    </tr>\n",
       "  </thead>\n",
       "  <tbody>\n",
       "    <tr>\n",
       "      <th>0</th>\n",
       "      <td>1</td>\n",
       "      <td>54</td>\n",
       "      <td>8</td>\n",
       "      <td>6</td>\n",
       "      <td>67</td>\n",
       "    </tr>\n",
       "  </tbody>\n",
       "</table>\n",
       "</div>"
      ],
      "text/plain": [
       "   Hours Studied  Previous Scores  Sleep Hours  \\\n",
       "0              1               54            8   \n",
       "\n",
       "   Sample Question Papers Practiced  Performance Index  \n",
       "0                                 6                 67  "
      ]
     },
     "execution_count": 39,
     "metadata": {},
     "output_type": "execute_result"
    }
   ],
   "source": [
    "#Gets the mode for each colum\n",
    "import pandas as pd\n",
    "data=pd.read_csv(\"Student_Performance.csv\")\n",
    "data.mode()"
   ]
  },
  {
   "cell_type": "code",
   "execution_count": 40,
   "id": "c530e515",
   "metadata": {},
   "outputs": [
    {
     "data": {
      "text/plain": [
       "Hours Studied                        2.589309\n",
       "Previous Scores                     17.343152\n",
       "Sleep Hours                          1.695863\n",
       "Sample Question Papers Practiced     2.867348\n",
       "Performance Index                   19.212558\n",
       "dtype: float64"
      ]
     },
     "execution_count": 40,
     "metadata": {},
     "output_type": "execute_result"
    }
   ],
   "source": [
    "#gets the standard deviation for each column\n",
    "import pandas as pd\n",
    "data=pd.read_csv(\"Student_Performance.csv\")\n",
    "data.std()"
   ]
  },
  {
   "cell_type": "code",
   "execution_count": 44,
   "id": "16f7edf0",
   "metadata": {},
   "outputs": [
    {
     "data": {
      "text/plain": [
       "49929"
      ]
     },
     "execution_count": 44,
     "metadata": {},
     "output_type": "execute_result"
    }
   ],
   "source": [
    "import pandas as pd\n",
    "data=pd.read_csv(\"Student_Performance.csv\")\n",
    "data[\"Hours Studied\"].sum()"
   ]
  },
  {
   "cell_type": "markdown",
   "id": "d16b0a89",
   "metadata": {},
   "source": [
    "**drop()**: There are some instances where you want to remove a column from a dataframe. The drop function helps us achieve this. For example we can remove the \"Extracurricular Activities\" activities from our dataframe as follows. The drop() method expects the column name to be dropped, the inplace attribute which determines if the modifiation will be done on the original dataframe and the axis indicates whether row or column. Axis 1 is for column and 0 is for row"
   ]
  },
  {
   "cell_type": "code",
   "execution_count": 31,
   "id": "a52358fd",
   "metadata": {},
   "outputs": [],
   "source": [
    "import pandas as pd\n",
    "data=pd.read_csv(\"Student_Performance.csv\")\n",
    "data.drop(columns=\"Extracurricular Activities\",inplace=True, axis=1)\n",
    "data.head()"
   ]
  },
  {
   "cell_type": "markdown",
   "id": "3b140531",
   "metadata": {},
   "source": [
    "From the results, we can see that we no longer have the \"Extracurricular Activities\" column"
   ]
  },
  {
   "cell_type": "markdown",
   "id": "0f83d488",
   "metadata": {},
   "source": [
    "**value_counts()**: We can also count the specific values in a culumn using the value_counts() function as follows"
   ]
  },
  {
   "cell_type": "code",
   "execution_count": 33,
   "id": "cb327c96",
   "metadata": {},
   "outputs": [
    {
     "data": {
      "text/plain": [
       "Sleep Hours\n",
       "8    1804\n",
       "7    1676\n",
       "6    1673\n",
       "9    1622\n",
       "4    1619\n",
       "5    1606\n",
       "Name: count, dtype: int64"
      ]
     },
     "execution_count": 33,
     "metadata": {},
     "output_type": "execute_result"
    }
   ],
   "source": [
    "import pandas as pd\n",
    "data=pd.read_csv(\"Student_Performance.csv\")\n",
    "data[\"Sleep Hours\"].value_counts()"
   ]
  },
  {
   "cell_type": "markdown",
   "id": "0c4bdf5c",
   "metadata": {},
   "source": [
    "From the results of counting the \"sleep hours\" column, we can see the number of people who have slept for the various hours e.g 8 hours has 1804.\n",
    "\n",
    "**sample()**: The sample() function helps us get a sample values from our dataframe. When using the sample, we can specify the size of our sample as the parameter."
   ]
  },
  {
   "cell_type": "code",
   "execution_count": 36,
   "id": "bc3ac936",
   "metadata": {},
   "outputs": [
    {
     "data": {
      "text/plain": [
       "(50, 5)"
      ]
     },
     "execution_count": 36,
     "metadata": {},
     "output_type": "execute_result"
    }
   ],
   "source": [
    "import pandas as pd\n",
    "data=pd.read_csv(\"Student_Performance.csv\")\n",
    "sample_data=data.sample(50)\n",
    "print(sample_data.shape)\n",
    "print(sample_data.head())"
   ]
  },
  {
   "cell_type": "markdown",
   "id": "aafd0a1a",
   "metadata": {},
   "source": [
    "**<h4>Reindexing </h4>**\n",
    "\n",
    "If you look at our dataset, we can see that pandas provides for us an automated index. In some cases you might want to create your own indexes, in this case you can use the reindexing functions in pandas. For example if we wanted you wanted to remove the index in the dataset we read in the previsous setion, we can use the pandas reindex()function. We pass to the reindex function the new index we expect to create as our new index\n"
   ]
  },
  {
   "cell_type": "code",
   "execution_count": 16,
   "id": "50f74e04",
   "metadata": {},
   "outputs": [
    {
     "data": {
      "text/html": [
       "<div>\n",
       "<style scoped>\n",
       "    .dataframe tbody tr th:only-of-type {\n",
       "        vertical-align: middle;\n",
       "    }\n",
       "\n",
       "    .dataframe tbody tr th {\n",
       "        vertical-align: top;\n",
       "    }\n",
       "\n",
       "    .dataframe thead th {\n",
       "        text-align: right;\n",
       "    }\n",
       "</style>\n",
       "<table border=\"1\" class=\"dataframe\">\n",
       "  <thead>\n",
       "    <tr style=\"text-align: right;\">\n",
       "      <th></th>\n",
       "      <th>Hours Studied</th>\n",
       "      <th>Previous Scores</th>\n",
       "      <th>Extracurricular Activities</th>\n",
       "      <th>Sleep Hours</th>\n",
       "      <th>Sample Question Papers Practiced</th>\n",
       "      <th>Performance Index</th>\n",
       "    </tr>\n",
       "  </thead>\n",
       "  <tbody>\n",
       "    <tr>\n",
       "      <th>20</th>\n",
       "      <td>1.0</td>\n",
       "      <td>99.0</td>\n",
       "      <td>Yes</td>\n",
       "      <td>4.0</td>\n",
       "      <td>3.0</td>\n",
       "      <td>71.0</td>\n",
       "    </tr>\n",
       "    <tr>\n",
       "      <th>21</th>\n",
       "      <td>6.0</td>\n",
       "      <td>96.0</td>\n",
       "      <td>No</td>\n",
       "      <td>9.0</td>\n",
       "      <td>0.0</td>\n",
       "      <td>85.0</td>\n",
       "    </tr>\n",
       "    <tr>\n",
       "      <th>22</th>\n",
       "      <td>9.0</td>\n",
       "      <td>74.0</td>\n",
       "      <td>Yes</td>\n",
       "      <td>7.0</td>\n",
       "      <td>6.0</td>\n",
       "      <td>73.0</td>\n",
       "    </tr>\n",
       "    <tr>\n",
       "      <th>23</th>\n",
       "      <td>1.0</td>\n",
       "      <td>85.0</td>\n",
       "      <td>No</td>\n",
       "      <td>5.0</td>\n",
       "      <td>6.0</td>\n",
       "      <td>57.0</td>\n",
       "    </tr>\n",
       "    <tr>\n",
       "      <th>24</th>\n",
       "      <td>3.0</td>\n",
       "      <td>61.0</td>\n",
       "      <td>No</td>\n",
       "      <td>6.0</td>\n",
       "      <td>3.0</td>\n",
       "      <td>35.0</td>\n",
       "    </tr>\n",
       "    <tr>\n",
       "      <th>...</th>\n",
       "      <td>...</td>\n",
       "      <td>...</td>\n",
       "      <td>...</td>\n",
       "      <td>...</td>\n",
       "      <td>...</td>\n",
       "      <td>...</td>\n",
       "    </tr>\n",
       "    <tr>\n",
       "      <th>10015</th>\n",
       "      <td>NaN</td>\n",
       "      <td>NaN</td>\n",
       "      <td>NaN</td>\n",
       "      <td>NaN</td>\n",
       "      <td>NaN</td>\n",
       "      <td>NaN</td>\n",
       "    </tr>\n",
       "    <tr>\n",
       "      <th>10016</th>\n",
       "      <td>NaN</td>\n",
       "      <td>NaN</td>\n",
       "      <td>NaN</td>\n",
       "      <td>NaN</td>\n",
       "      <td>NaN</td>\n",
       "      <td>NaN</td>\n",
       "    </tr>\n",
       "    <tr>\n",
       "      <th>10017</th>\n",
       "      <td>NaN</td>\n",
       "      <td>NaN</td>\n",
       "      <td>NaN</td>\n",
       "      <td>NaN</td>\n",
       "      <td>NaN</td>\n",
       "      <td>NaN</td>\n",
       "    </tr>\n",
       "    <tr>\n",
       "      <th>10018</th>\n",
       "      <td>NaN</td>\n",
       "      <td>NaN</td>\n",
       "      <td>NaN</td>\n",
       "      <td>NaN</td>\n",
       "      <td>NaN</td>\n",
       "      <td>NaN</td>\n",
       "    </tr>\n",
       "    <tr>\n",
       "      <th>10019</th>\n",
       "      <td>NaN</td>\n",
       "      <td>NaN</td>\n",
       "      <td>NaN</td>\n",
       "      <td>NaN</td>\n",
       "      <td>NaN</td>\n",
       "      <td>NaN</td>\n",
       "    </tr>\n",
       "  </tbody>\n",
       "</table>\n",
       "<p>10000 rows × 6 columns</p>\n",
       "</div>"
      ],
      "text/plain": [
       "       Hours Studied  Previous Scores Extracurricular Activities  Sleep Hours  \\\n",
       "20               1.0             99.0                        Yes          4.0   \n",
       "21               6.0             96.0                         No          9.0   \n",
       "22               9.0             74.0                        Yes          7.0   \n",
       "23               1.0             85.0                         No          5.0   \n",
       "24               3.0             61.0                         No          6.0   \n",
       "...              ...              ...                        ...          ...   \n",
       "10015            NaN              NaN                        NaN          NaN   \n",
       "10016            NaN              NaN                        NaN          NaN   \n",
       "10017            NaN              NaN                        NaN          NaN   \n",
       "10018            NaN              NaN                        NaN          NaN   \n",
       "10019            NaN              NaN                        NaN          NaN   \n",
       "\n",
       "       Sample Question Papers Practiced  Performance Index  \n",
       "20                                  3.0               71.0  \n",
       "21                                  0.0               85.0  \n",
       "22                                  6.0               73.0  \n",
       "23                                  6.0               57.0  \n",
       "24                                  3.0               35.0  \n",
       "...                                 ...                ...  \n",
       "10015                               NaN                NaN  \n",
       "10016                               NaN                NaN  \n",
       "10017                               NaN                NaN  \n",
       "10018                               NaN                NaN  \n",
       "10019                               NaN                NaN  \n",
       "\n",
       "[10000 rows x 6 columns]"
      ]
     },
     "execution_count": 16,
     "metadata": {},
     "output_type": "execute_result"
    }
   ],
   "source": [
    "import pandas as pd\n",
    "data=pd.read_csv(\"Student_Performance.csv\")\n",
    "new_index=(range(20,10020))\n",
    "data.reindex(new_index)"
   ]
  },
  {
   "cell_type": "markdown",
   "id": "429c8716",
   "metadata": {},
   "source": [
    "**set_index()**: You can use the set index to set an existing column to be the index"
   ]
  },
  {
   "cell_type": "code",
   "execution_count": 17,
   "id": "cc8f42bb",
   "metadata": {},
   "outputs": [
    {
     "data": {
      "text/html": [
       "<div>\n",
       "<style scoped>\n",
       "    .dataframe tbody tr th:only-of-type {\n",
       "        vertical-align: middle;\n",
       "    }\n",
       "\n",
       "    .dataframe tbody tr th {\n",
       "        vertical-align: top;\n",
       "    }\n",
       "\n",
       "    .dataframe thead th {\n",
       "        text-align: right;\n",
       "    }\n",
       "</style>\n",
       "<table border=\"1\" class=\"dataframe\">\n",
       "  <thead>\n",
       "    <tr style=\"text-align: right;\">\n",
       "      <th></th>\n",
       "      <th>Previous Scores</th>\n",
       "      <th>Extracurricular Activities</th>\n",
       "      <th>Sleep Hours</th>\n",
       "      <th>Sample Question Papers Practiced</th>\n",
       "      <th>Performance Index</th>\n",
       "    </tr>\n",
       "    <tr>\n",
       "      <th>Hours Studied</th>\n",
       "      <th></th>\n",
       "      <th></th>\n",
       "      <th></th>\n",
       "      <th></th>\n",
       "      <th></th>\n",
       "    </tr>\n",
       "  </thead>\n",
       "  <tbody>\n",
       "    <tr>\n",
       "      <th>7</th>\n",
       "      <td>99</td>\n",
       "      <td>Yes</td>\n",
       "      <td>9</td>\n",
       "      <td>1</td>\n",
       "      <td>91</td>\n",
       "    </tr>\n",
       "    <tr>\n",
       "      <th>4</th>\n",
       "      <td>82</td>\n",
       "      <td>No</td>\n",
       "      <td>4</td>\n",
       "      <td>2</td>\n",
       "      <td>65</td>\n",
       "    </tr>\n",
       "    <tr>\n",
       "      <th>8</th>\n",
       "      <td>51</td>\n",
       "      <td>Yes</td>\n",
       "      <td>7</td>\n",
       "      <td>2</td>\n",
       "      <td>45</td>\n",
       "    </tr>\n",
       "    <tr>\n",
       "      <th>5</th>\n",
       "      <td>52</td>\n",
       "      <td>Yes</td>\n",
       "      <td>5</td>\n",
       "      <td>2</td>\n",
       "      <td>36</td>\n",
       "    </tr>\n",
       "    <tr>\n",
       "      <th>7</th>\n",
       "      <td>75</td>\n",
       "      <td>No</td>\n",
       "      <td>8</td>\n",
       "      <td>5</td>\n",
       "      <td>66</td>\n",
       "    </tr>\n",
       "    <tr>\n",
       "      <th>...</th>\n",
       "      <td>...</td>\n",
       "      <td>...</td>\n",
       "      <td>...</td>\n",
       "      <td>...</td>\n",
       "      <td>...</td>\n",
       "    </tr>\n",
       "    <tr>\n",
       "      <th>1</th>\n",
       "      <td>49</td>\n",
       "      <td>Yes</td>\n",
       "      <td>4</td>\n",
       "      <td>2</td>\n",
       "      <td>23</td>\n",
       "    </tr>\n",
       "    <tr>\n",
       "      <th>7</th>\n",
       "      <td>64</td>\n",
       "      <td>Yes</td>\n",
       "      <td>8</td>\n",
       "      <td>5</td>\n",
       "      <td>58</td>\n",
       "    </tr>\n",
       "    <tr>\n",
       "      <th>6</th>\n",
       "      <td>83</td>\n",
       "      <td>Yes</td>\n",
       "      <td>8</td>\n",
       "      <td>5</td>\n",
       "      <td>74</td>\n",
       "    </tr>\n",
       "    <tr>\n",
       "      <th>9</th>\n",
       "      <td>97</td>\n",
       "      <td>Yes</td>\n",
       "      <td>7</td>\n",
       "      <td>0</td>\n",
       "      <td>95</td>\n",
       "    </tr>\n",
       "    <tr>\n",
       "      <th>7</th>\n",
       "      <td>74</td>\n",
       "      <td>No</td>\n",
       "      <td>8</td>\n",
       "      <td>1</td>\n",
       "      <td>64</td>\n",
       "    </tr>\n",
       "  </tbody>\n",
       "</table>\n",
       "<p>10000 rows × 5 columns</p>\n",
       "</div>"
      ],
      "text/plain": [
       "               Previous Scores Extracurricular Activities  Sleep Hours  \\\n",
       "Hours Studied                                                            \n",
       "7                           99                        Yes            9   \n",
       "4                           82                         No            4   \n",
       "8                           51                        Yes            7   \n",
       "5                           52                        Yes            5   \n",
       "7                           75                         No            8   \n",
       "...                        ...                        ...          ...   \n",
       "1                           49                        Yes            4   \n",
       "7                           64                        Yes            8   \n",
       "6                           83                        Yes            8   \n",
       "9                           97                        Yes            7   \n",
       "7                           74                         No            8   \n",
       "\n",
       "               Sample Question Papers Practiced  Performance Index  \n",
       "Hours Studied                                                       \n",
       "7                                             1                 91  \n",
       "4                                             2                 65  \n",
       "8                                             2                 45  \n",
       "5                                             2                 36  \n",
       "7                                             5                 66  \n",
       "...                                         ...                ...  \n",
       "1                                             2                 23  \n",
       "7                                             5                 58  \n",
       "6                                             5                 74  \n",
       "9                                             0                 95  \n",
       "7                                             1                 64  \n",
       "\n",
       "[10000 rows x 5 columns]"
      ]
     },
     "execution_count": 17,
     "metadata": {},
     "output_type": "execute_result"
    }
   ],
   "source": [
    "import pandas as pd\n",
    "data=pd.read_csv(\"Student_Performance.csv\")\n",
    "data.set_index('Hours Studied')"
   ]
  },
  {
   "cell_type": "markdown",
   "id": "063c188d",
   "metadata": {},
   "source": [
    "**<h4>Selection Filtering</h4>**\n",
    "\n",
    "In most cases, you might find your dataset has alot of columns and you might want to be able to see a portion of the dataset based on the need and some creteria. To do that you will need to use the selection and filtering creteria provided in pandas.\n",
    "\n",
    "**Selecting multiple columns**\n",
    "\n",
    "We saw earlier that we can select a single column using the dataframe name and the column name in the square brackets. To select multiple columns, we will need to pass the column name as a list in the square brackets. To do this lets read another dataset and extract a portion of it."
   ]
  },
  {
   "cell_type": "code",
   "execution_count": 22,
   "id": "6a1cd0bb",
   "metadata": {},
   "outputs": [
    {
     "data": {
      "text/html": [
       "<div>\n",
       "<style scoped>\n",
       "    .dataframe tbody tr th:only-of-type {\n",
       "        vertical-align: middle;\n",
       "    }\n",
       "\n",
       "    .dataframe tbody tr th {\n",
       "        vertical-align: top;\n",
       "    }\n",
       "\n",
       "    .dataframe thead th {\n",
       "        text-align: right;\n",
       "    }\n",
       "</style>\n",
       "<table border=\"1\" class=\"dataframe\">\n",
       "  <thead>\n",
       "    <tr style=\"text-align: right;\">\n",
       "      <th></th>\n",
       "      <th>Pregnancies</th>\n",
       "      <th>Glucose</th>\n",
       "      <th>BloodPressure</th>\n",
       "      <th>SkinThickness</th>\n",
       "      <th>Insulin</th>\n",
       "      <th>BMI</th>\n",
       "      <th>DiabetesPedigreeFunction</th>\n",
       "      <th>Age</th>\n",
       "      <th>Outcome</th>\n",
       "    </tr>\n",
       "  </thead>\n",
       "  <tbody>\n",
       "    <tr>\n",
       "      <th>0</th>\n",
       "      <td>6</td>\n",
       "      <td>148</td>\n",
       "      <td>72</td>\n",
       "      <td>35</td>\n",
       "      <td>0</td>\n",
       "      <td>33.6</td>\n",
       "      <td>0.627</td>\n",
       "      <td>50</td>\n",
       "      <td>1</td>\n",
       "    </tr>\n",
       "    <tr>\n",
       "      <th>1</th>\n",
       "      <td>1</td>\n",
       "      <td>85</td>\n",
       "      <td>66</td>\n",
       "      <td>29</td>\n",
       "      <td>0</td>\n",
       "      <td>26.6</td>\n",
       "      <td>0.351</td>\n",
       "      <td>31</td>\n",
       "      <td>0</td>\n",
       "    </tr>\n",
       "    <tr>\n",
       "      <th>2</th>\n",
       "      <td>8</td>\n",
       "      <td>183</td>\n",
       "      <td>64</td>\n",
       "      <td>0</td>\n",
       "      <td>0</td>\n",
       "      <td>23.3</td>\n",
       "      <td>0.672</td>\n",
       "      <td>32</td>\n",
       "      <td>1</td>\n",
       "    </tr>\n",
       "    <tr>\n",
       "      <th>3</th>\n",
       "      <td>1</td>\n",
       "      <td>89</td>\n",
       "      <td>66</td>\n",
       "      <td>23</td>\n",
       "      <td>94</td>\n",
       "      <td>28.1</td>\n",
       "      <td>0.167</td>\n",
       "      <td>21</td>\n",
       "      <td>0</td>\n",
       "    </tr>\n",
       "    <tr>\n",
       "      <th>4</th>\n",
       "      <td>0</td>\n",
       "      <td>137</td>\n",
       "      <td>40</td>\n",
       "      <td>35</td>\n",
       "      <td>168</td>\n",
       "      <td>43.1</td>\n",
       "      <td>2.288</td>\n",
       "      <td>33</td>\n",
       "      <td>1</td>\n",
       "    </tr>\n",
       "  </tbody>\n",
       "</table>\n",
       "</div>"
      ],
      "text/plain": [
       "   Pregnancies  Glucose  BloodPressure  SkinThickness  Insulin   BMI  \\\n",
       "0            6      148             72             35        0  33.6   \n",
       "1            1       85             66             29        0  26.6   \n",
       "2            8      183             64              0        0  23.3   \n",
       "3            1       89             66             23       94  28.1   \n",
       "4            0      137             40             35      168  43.1   \n",
       "\n",
       "   DiabetesPedigreeFunction  Age  Outcome  \n",
       "0                     0.627   50        1  \n",
       "1                     0.351   31        0  \n",
       "2                     0.672   32        1  \n",
       "3                     0.167   21        0  \n",
       "4                     2.288   33        1  "
      ]
     },
     "execution_count": 22,
     "metadata": {},
     "output_type": "execute_result"
    }
   ],
   "source": [
    "import pandas as pd\n",
    "new_dataset=pd.read_csv(\"diabetes.csv\")\n",
    "new_dataset.head()"
   ]
  },
  {
   "cell_type": "markdown",
   "id": "20cf0fd5",
   "metadata": {},
   "source": [
    "As we can see our data has alot of columns, lets say we want to see only the Glucose and BloodPressure columns. We can do so as follows"
   ]
  },
  {
   "cell_type": "code",
   "execution_count": 24,
   "id": "260818eb",
   "metadata": {},
   "outputs": [],
   "source": [
    "import pandas as pd\n",
    "new_dataset=pd.read_csv(\"diabetes.csv\")\n",
    "new_dataset.head()\n",
    "new_dataset_select=new_dataset[['Glucose','BloodPressure']]\n",
    "print(new_dataset_select.head())"
   ]
  },
  {
   "cell_type": "markdown",
   "id": "164cd63c",
   "metadata": {},
   "source": [
    "**<h4>Filtering:</h4>** \n",
    "\n",
    "Lets say that we wanted to only see the data where blood pressure is below 50. We can select only those row that have blood pressure below 50 as follows"
   ]
  },
  {
   "cell_type": "code",
   "execution_count": 27,
   "id": "c7ce58c5",
   "metadata": {},
   "outputs": [],
   "source": [
    "import pandas as pd\n",
    "new_dataset=pd.read_csv(\"diabetes.csv\")\n",
    "bpbelow50=new_dataset[new_dataset['BloodPressure']<50]"
   ]
  },
  {
   "cell_type": "markdown",
   "id": "e0a62f71",
   "metadata": {},
   "source": [
    "We can look at the shape of our data to be able to see how many rows have in our new dataset"
   ]
  },
  {
   "cell_type": "code",
   "execution_count": 28,
   "id": "6b0613bb",
   "metadata": {},
   "outputs": [
    {
     "data": {
      "text/plain": [
       "(51, 9)"
      ]
     },
     "execution_count": 28,
     "metadata": {},
     "output_type": "execute_result"
    }
   ],
   "source": [
    "import pandas as pd\n",
    "new_dataset=pd.read_csv(\"diabetes.csv\")\n",
    "bpbelow50=new_dataset[new_dataset['BloodPressure']<50]\n",
    "bpbelow50.shape"
   ]
  },
  {
   "cell_type": "markdown",
   "id": "1d9e3fff",
   "metadata": {},
   "source": [
    "You can see that the rows that have bp below 50 are 51. We can also select the rows that only have an outcome of 1 as follows"
   ]
  },
  {
   "cell_type": "code",
   "execution_count": 30,
   "id": "c9b49e22",
   "metadata": {},
   "outputs": [
    {
     "data": {
      "text/plain": [
       "(268, 9)"
      ]
     },
     "execution_count": 30,
     "metadata": {},
     "output_type": "execute_result"
    }
   ],
   "source": [
    "import pandas as pd\n",
    "new_dataset=pd.read_csv(\"diabetes.csv\")\n",
    "outcome1=new_dataset[new_dataset['Outcome']==1]\n",
    "print(outcome1.shape)"
   ]
  },
  {
   "cell_type": "markdown",
   "id": "293f887a",
   "metadata": {},
   "source": [
    "From our dataset, we can see that we have 268 records where the outcome was equals to 1.\n",
    "\n",
    "We can also view specific rows and specific columns. We can access those using the iloc function in pandas. For example if we were interested only in the first 10 rows and the first three columns we will write"
   ]
  },
  {
   "cell_type": "code",
   "execution_count": 32,
   "id": "1fafa208",
   "metadata": {},
   "outputs": [
    {
     "data": {
      "text/html": [
       "<div>\n",
       "<style scoped>\n",
       "    .dataframe tbody tr th:only-of-type {\n",
       "        vertical-align: middle;\n",
       "    }\n",
       "\n",
       "    .dataframe tbody tr th {\n",
       "        vertical-align: top;\n",
       "    }\n",
       "\n",
       "    .dataframe thead th {\n",
       "        text-align: right;\n",
       "    }\n",
       "</style>\n",
       "<table border=\"1\" class=\"dataframe\">\n",
       "  <thead>\n",
       "    <tr style=\"text-align: right;\">\n",
       "      <th></th>\n",
       "      <th>Glucose</th>\n",
       "      <th>BloodPressure</th>\n",
       "      <th>SkinThickness</th>\n",
       "    </tr>\n",
       "  </thead>\n",
       "  <tbody>\n",
       "    <tr>\n",
       "      <th>1</th>\n",
       "      <td>85</td>\n",
       "      <td>66</td>\n",
       "      <td>29</td>\n",
       "    </tr>\n",
       "    <tr>\n",
       "      <th>2</th>\n",
       "      <td>183</td>\n",
       "      <td>64</td>\n",
       "      <td>0</td>\n",
       "    </tr>\n",
       "    <tr>\n",
       "      <th>3</th>\n",
       "      <td>89</td>\n",
       "      <td>66</td>\n",
       "      <td>23</td>\n",
       "    </tr>\n",
       "    <tr>\n",
       "      <th>4</th>\n",
       "      <td>137</td>\n",
       "      <td>40</td>\n",
       "      <td>35</td>\n",
       "    </tr>\n",
       "    <tr>\n",
       "      <th>5</th>\n",
       "      <td>116</td>\n",
       "      <td>74</td>\n",
       "      <td>0</td>\n",
       "    </tr>\n",
       "    <tr>\n",
       "      <th>6</th>\n",
       "      <td>78</td>\n",
       "      <td>50</td>\n",
       "      <td>32</td>\n",
       "    </tr>\n",
       "    <tr>\n",
       "      <th>7</th>\n",
       "      <td>115</td>\n",
       "      <td>0</td>\n",
       "      <td>0</td>\n",
       "    </tr>\n",
       "    <tr>\n",
       "      <th>8</th>\n",
       "      <td>197</td>\n",
       "      <td>70</td>\n",
       "      <td>45</td>\n",
       "    </tr>\n",
       "    <tr>\n",
       "      <th>9</th>\n",
       "      <td>125</td>\n",
       "      <td>96</td>\n",
       "      <td>0</td>\n",
       "    </tr>\n",
       "  </tbody>\n",
       "</table>\n",
       "</div>"
      ],
      "text/plain": [
       "   Glucose  BloodPressure  SkinThickness\n",
       "1       85             66             29\n",
       "2      183             64              0\n",
       "3       89             66             23\n",
       "4      137             40             35\n",
       "5      116             74              0\n",
       "6       78             50             32\n",
       "7      115              0              0\n",
       "8      197             70             45\n",
       "9      125             96              0"
      ]
     },
     "execution_count": 32,
     "metadata": {},
     "output_type": "execute_result"
    }
   ],
   "source": [
    "import pandas as pd\n",
    "new_dataset=pd.read_csv(\"diabetes.csv\")\n",
    "print(new_dataset.iloc[1:10, 1:4])"
   ]
  },
  {
   "cell_type": "markdown",
   "id": "28b6fc49",
   "metadata": {},
   "source": [
    "If we were intereted in all the rows and only the first three columns, we will write"
   ]
  },
  {
   "cell_type": "code",
   "execution_count": 33,
   "id": "73a5b1b7",
   "metadata": {},
   "outputs": [
    {
     "data": {
      "text/html": [
       "<div>\n",
       "<style scoped>\n",
       "    .dataframe tbody tr th:only-of-type {\n",
       "        vertical-align: middle;\n",
       "    }\n",
       "\n",
       "    .dataframe tbody tr th {\n",
       "        vertical-align: top;\n",
       "    }\n",
       "\n",
       "    .dataframe thead th {\n",
       "        text-align: right;\n",
       "    }\n",
       "</style>\n",
       "<table border=\"1\" class=\"dataframe\">\n",
       "  <thead>\n",
       "    <tr style=\"text-align: right;\">\n",
       "      <th></th>\n",
       "      <th>Glucose</th>\n",
       "      <th>BloodPressure</th>\n",
       "      <th>SkinThickness</th>\n",
       "    </tr>\n",
       "  </thead>\n",
       "  <tbody>\n",
       "    <tr>\n",
       "      <th>0</th>\n",
       "      <td>148</td>\n",
       "      <td>72</td>\n",
       "      <td>35</td>\n",
       "    </tr>\n",
       "    <tr>\n",
       "      <th>1</th>\n",
       "      <td>85</td>\n",
       "      <td>66</td>\n",
       "      <td>29</td>\n",
       "    </tr>\n",
       "    <tr>\n",
       "      <th>2</th>\n",
       "      <td>183</td>\n",
       "      <td>64</td>\n",
       "      <td>0</td>\n",
       "    </tr>\n",
       "    <tr>\n",
       "      <th>3</th>\n",
       "      <td>89</td>\n",
       "      <td>66</td>\n",
       "      <td>23</td>\n",
       "    </tr>\n",
       "    <tr>\n",
       "      <th>4</th>\n",
       "      <td>137</td>\n",
       "      <td>40</td>\n",
       "      <td>35</td>\n",
       "    </tr>\n",
       "    <tr>\n",
       "      <th>...</th>\n",
       "      <td>...</td>\n",
       "      <td>...</td>\n",
       "      <td>...</td>\n",
       "    </tr>\n",
       "    <tr>\n",
       "      <th>763</th>\n",
       "      <td>101</td>\n",
       "      <td>76</td>\n",
       "      <td>48</td>\n",
       "    </tr>\n",
       "    <tr>\n",
       "      <th>764</th>\n",
       "      <td>122</td>\n",
       "      <td>70</td>\n",
       "      <td>27</td>\n",
       "    </tr>\n",
       "    <tr>\n",
       "      <th>765</th>\n",
       "      <td>121</td>\n",
       "      <td>72</td>\n",
       "      <td>23</td>\n",
       "    </tr>\n",
       "    <tr>\n",
       "      <th>766</th>\n",
       "      <td>126</td>\n",
       "      <td>60</td>\n",
       "      <td>0</td>\n",
       "    </tr>\n",
       "    <tr>\n",
       "      <th>767</th>\n",
       "      <td>93</td>\n",
       "      <td>70</td>\n",
       "      <td>31</td>\n",
       "    </tr>\n",
       "  </tbody>\n",
       "</table>\n",
       "<p>768 rows × 3 columns</p>\n",
       "</div>"
      ],
      "text/plain": [
       "     Glucose  BloodPressure  SkinThickness\n",
       "0        148             72             35\n",
       "1         85             66             29\n",
       "2        183             64              0\n",
       "3         89             66             23\n",
       "4        137             40             35\n",
       "..       ...            ...            ...\n",
       "763      101             76             48\n",
       "764      122             70             27\n",
       "765      121             72             23\n",
       "766      126             60              0\n",
       "767       93             70             31\n",
       "\n",
       "[768 rows x 3 columns]"
      ]
     },
     "execution_count": 33,
     "metadata": {},
     "output_type": "execute_result"
    }
   ],
   "source": [
    "import pandas as pd\n",
    "new_dataset=pd.read_csv(\"diabetes.csv\")\n",
    "print(new_dataset.iloc[:,1:4])"
   ]
  },
  {
   "cell_type": "markdown",
   "id": "4d8828af",
   "metadata": {},
   "source": [
    "**<h4>Sorting</h4>**\n",
    "\n",
    "We can sort values in the pandas dataframe using the pandas sort_values function.\n",
    "\n",
    "The sort_values function expects the following parameters\n",
    "\n",
    "**by:** Indicates the columnn the data will be sorted by\n",
    "\n",
    "**axis:** The axis to be sorted 0 to sort by index, 1 or columns. The dafault is usually 0\n",
    "\n",
    "**Ascending:** if set to True, it will sort the data in the ascending order. If set to false, it will sort the data in descending order.\n",
    "\n",
    "**inplace:** If set to true, it will modify the dataset if set to false it will create a copy of the dataset\n",
    "\n",
    "**na_position**: Sets where to put the null value. If the option is equal to first, it will put the null values at the top of the dataframe. If the position is set to last, it will put the null valus at the end of the dataframe.\n",
    "\n",
    "**kind:** This specifies the type of the sorting algorithm to be used. The options are quicksort, mergesort, heapsort, stable\n",
    "\n",
    "Lets us demostrate this using the dataset we read in the previous section. We will sort it by the age column as follows"
   ]
  },
  {
   "cell_type": "code",
   "execution_count": 34,
   "id": "823b429a",
   "metadata": {},
   "outputs": [],
   "source": [
    "import pandas as pd\n",
    "new_dataset=pd.read_csv(\"diabetes.csv\")\n",
    "new_dataset.sort_values(by='Age',inplace=True, kind=\"quicksort\", na_position='last', ascending=True)\n",
    "new_dataset.head()"
   ]
  },
  {
   "cell_type": "markdown",
   "id": "93b02f04",
   "metadata": {},
   "source": [
    "If we look at the data set we can see that the columns have been sorted according to the age with 21 being the lowest age. We can peek at the tail to see the highest age. As shown in the result the highest age is 81"
   ]
  },
  {
   "cell_type": "code",
   "execution_count": 36,
   "id": "5b686394",
   "metadata": {},
   "outputs": [
    {
     "data": {
      "text/html": [
       "<div>\n",
       "<style scoped>\n",
       "    .dataframe tbody tr th:only-of-type {\n",
       "        vertical-align: middle;\n",
       "    }\n",
       "\n",
       "    .dataframe tbody tr th {\n",
       "        vertical-align: top;\n",
       "    }\n",
       "\n",
       "    .dataframe thead th {\n",
       "        text-align: right;\n",
       "    }\n",
       "</style>\n",
       "<table border=\"1\" class=\"dataframe\">\n",
       "  <thead>\n",
       "    <tr style=\"text-align: right;\">\n",
       "      <th></th>\n",
       "      <th>Pregnancies</th>\n",
       "      <th>Glucose</th>\n",
       "      <th>BloodPressure</th>\n",
       "      <th>SkinThickness</th>\n",
       "      <th>Insulin</th>\n",
       "      <th>BMI</th>\n",
       "      <th>DiabetesPedigreeFunction</th>\n",
       "      <th>Age</th>\n",
       "      <th>Outcome</th>\n",
       "    </tr>\n",
       "  </thead>\n",
       "  <tbody>\n",
       "    <tr>\n",
       "      <th>123</th>\n",
       "      <td>5</td>\n",
       "      <td>132</td>\n",
       "      <td>80</td>\n",
       "      <td>0</td>\n",
       "      <td>0</td>\n",
       "      <td>26.8</td>\n",
       "      <td>0.186</td>\n",
       "      <td>69</td>\n",
       "      <td>0</td>\n",
       "    </tr>\n",
       "    <tr>\n",
       "      <th>684</th>\n",
       "      <td>5</td>\n",
       "      <td>136</td>\n",
       "      <td>82</td>\n",
       "      <td>0</td>\n",
       "      <td>0</td>\n",
       "      <td>0.0</td>\n",
       "      <td>0.640</td>\n",
       "      <td>69</td>\n",
       "      <td>0</td>\n",
       "    </tr>\n",
       "    <tr>\n",
       "      <th>666</th>\n",
       "      <td>4</td>\n",
       "      <td>145</td>\n",
       "      <td>82</td>\n",
       "      <td>18</td>\n",
       "      <td>0</td>\n",
       "      <td>32.5</td>\n",
       "      <td>0.235</td>\n",
       "      <td>70</td>\n",
       "      <td>1</td>\n",
       "    </tr>\n",
       "    <tr>\n",
       "      <th>453</th>\n",
       "      <td>2</td>\n",
       "      <td>119</td>\n",
       "      <td>0</td>\n",
       "      <td>0</td>\n",
       "      <td>0</td>\n",
       "      <td>19.6</td>\n",
       "      <td>0.832</td>\n",
       "      <td>72</td>\n",
       "      <td>0</td>\n",
       "    </tr>\n",
       "    <tr>\n",
       "      <th>459</th>\n",
       "      <td>9</td>\n",
       "      <td>134</td>\n",
       "      <td>74</td>\n",
       "      <td>33</td>\n",
       "      <td>60</td>\n",
       "      <td>25.9</td>\n",
       "      <td>0.460</td>\n",
       "      <td>81</td>\n",
       "      <td>0</td>\n",
       "    </tr>\n",
       "  </tbody>\n",
       "</table>\n",
       "</div>"
      ],
      "text/plain": [
       "     Pregnancies  Glucose  BloodPressure  SkinThickness  Insulin   BMI  \\\n",
       "123            5      132             80              0        0  26.8   \n",
       "684            5      136             82              0        0   0.0   \n",
       "666            4      145             82             18        0  32.5   \n",
       "453            2      119              0              0        0  19.6   \n",
       "459            9      134             74             33       60  25.9   \n",
       "\n",
       "     DiabetesPedigreeFunction  Age  Outcome  \n",
       "123                     0.186   69        0  \n",
       "684                     0.640   69        0  \n",
       "666                     0.235   70        1  \n",
       "453                     0.832   72        0  \n",
       "459                     0.460   81        0  "
      ]
     },
     "execution_count": 36,
     "metadata": {},
     "output_type": "execute_result"
    }
   ],
   "source": [
    "import pandas as pd\n",
    "new_dataset=pd.read_csv(\"diabetes.csv\")\n",
    "new_dataset.sort_values(by='Age',inplace=True, kind=\"quicksort\", na_position='last', ascending=True)\n",
    "new_dataset.tail()"
   ]
  }
 ],
 "metadata": {
  "kernelspec": {
   "display_name": "Python 3 (ipykernel)",
   "language": "python",
   "name": "python3"
  },
  "language_info": {
   "codemirror_mode": {
    "name": "ipython",
    "version": 3
   },
   "file_extension": ".py",
   "mimetype": "text/x-python",
   "name": "python",
   "nbconvert_exporter": "python",
   "pygments_lexer": "ipython3",
   "version": "3.11.7"
  }
 },
 "nbformat": 4,
 "nbformat_minor": 5
}
